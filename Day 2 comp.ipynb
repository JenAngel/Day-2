{
 "cells": [
  {
   "cell_type": "code",
   "execution_count": 2,
   "id": "88a5ea32-3cca-40fa-afbb-b7158917f0da",
   "metadata": {},
   "outputs": [
    {
     "name": "stdout",
     "output_type": "stream",
     "text": [
      "[0 1 2 3 4 5 6 7 8 9]\n"
     ]
    }
   ],
   "source": [
    "import numpy as np\n",
    "arr = np.arange(0, 10)\n",
    "print (arr)"
   ]
  },
  {
   "cell_type": "code",
   "execution_count": 3,
   "id": "3ea5c79a-81cc-4f16-b622-33ee2412a408",
   "metadata": {},
   "outputs": [
    {
     "name": "stdout",
     "output_type": "stream",
     "text": [
      "[[0 1 2 3 4]\n",
      " [5 6 7 8 9]]\n"
     ]
    }
   ],
   "source": [
    "arr1 = arr.reshape(2,5)\n",
    "print(arr1)"
   ]
  },
  {
   "cell_type": "code",
   "execution_count": 4,
   "id": "4bc530e3-d997-4658-8235-8e1a477f1120",
   "metadata": {},
   "outputs": [
    {
     "name": "stdout",
     "output_type": "stream",
     "text": [
      "[[11 13]\n",
      " [17 10]]\n"
     ]
    }
   ],
   "source": [
    "A = np.array([[2,5], [7,6]])\n",
    "B = np.array([[9,8], [10,4]])\n",
    "print(A+B)"
   ]
  },
  {
   "cell_type": "code",
   "execution_count": 5,
   "id": "89ee5aff-d94f-47bf-8860-090c7c361df5",
   "metadata": {},
   "outputs": [
    {
     "name": "stdout",
     "output_type": "stream",
     "text": [
      "[[18 40]\n",
      " [70 24]]\n"
     ]
    }
   ],
   "source": [
    "print(A*B)"
   ]
  },
  {
   "cell_type": "code",
   "execution_count": 6,
   "id": "1ef97810-a431-4b34-a066-bd195b3e233b",
   "metadata": {},
   "outputs": [
    {
     "name": "stdout",
     "output_type": "stream",
     "text": [
      "[[ 68  36]\n",
      " [123  80]]\n"
     ]
    }
   ],
   "source": [
    "C = np.dot(A,B)\n",
    "print(np.dot(A,B))"
   ]
  },
  {
   "cell_type": "code",
   "execution_count": 7,
   "id": "6d00db43-fd84-46a9-ba43-13983f41d446",
   "metadata": {},
   "outputs": [
    {
     "name": "stdout",
     "output_type": "stream",
     "text": [
      "[[2 7]\n",
      " [5 6]]\n"
     ]
    }
   ],
   "source": [
    "print(np.transpose(A))"
   ]
  },
  {
   "cell_type": "code",
   "execution_count": 8,
   "id": "377fba65-18d6-458a-a6c7-3c3992958f53",
   "metadata": {},
   "outputs": [
    {
     "name": "stdout",
     "output_type": "stream",
     "text": [
      "[[ 88  44]\n",
      " [105  64]]\n"
     ]
    }
   ],
   "source": [
    "D = np.dot(A,B)\n",
    "print(np.dot((np.transpose(A)),B))"
   ]
  },
  {
   "cell_type": "code",
   "execution_count": 9,
   "id": "edd94d2b-de01-4557-af71-bb584927d323",
   "metadata": {},
   "outputs": [
    {
     "name": "stdout",
     "output_type": "stream",
     "text": [
      "[0 1 2 3 4 5 6]\n"
     ]
    }
   ],
   "source": [
    "Elements = arr[arr<7]\n",
    "print(Elements)"
   ]
  },
  {
   "cell_type": "code",
   "execution_count": 10,
   "id": "49e8e7ed-a9a3-452e-8006-d6b2c0e9df18",
   "metadata": {},
   "outputs": [
    {
     "name": "stdout",
     "output_type": "stream",
     "text": [
      "[2 0 8 0 1 5 0]\n"
     ]
    }
   ],
   "source": [
    "arr2 = np.array([2, -4, 8, -6, 1, 5, -100])\n",
    "arr2[arr2<0] = 0\n",
    "print(arr2)"
   ]
  },
  {
   "cell_type": "code",
   "execution_count": 11,
   "id": "b87c03cc-9c28-4c6c-9d1e-d6903be7eca7",
   "metadata": {},
   "outputs": [
    {
     "name": "stdout",
     "output_type": "stream",
     "text": [
      "[0 5 1 0 8 0 2]\n"
     ]
    }
   ],
   "source": [
    "print(np.flip(arr2))"
   ]
  },
  {
   "cell_type": "code",
   "execution_count": 12,
   "id": "44f6a314-6d40-40dd-852e-376ccb3f7c20",
   "metadata": {},
   "outputs": [
    {
     "name": "stdout",
     "output_type": "stream",
     "text": [
      "19.857142857142858\n"
     ]
    }
   ],
   "source": [
    "arr3 = np.array([2, 34, 5, 67, 12, 3, 16])\n",
    "print(np.mean(arr3))"
   ]
  },
  {
   "cell_type": "code",
   "execution_count": 13,
   "id": "c8e7d642-5f90-48b4-94ec-6fa78f6d365b",
   "metadata": {},
   "outputs": [
    {
     "name": "stdout",
     "output_type": "stream",
     "text": [
      "12.0\n"
     ]
    }
   ],
   "source": [
    "print(np.median(arr3))"
   ]
  },
  {
   "cell_type": "code",
   "execution_count": 14,
   "id": "2922322f-fc04-4335-9dd0-618802284053",
   "metadata": {},
   "outputs": [
    {
     "name": "stdout",
     "output_type": "stream",
     "text": [
      "21.78747065519585\n"
     ]
    }
   ],
   "source": [
    "print(np.std(arr3))"
   ]
  },
  {
   "cell_type": "code",
   "execution_count": 15,
   "id": "9ad1c921-7733-4700-868c-9c52ac27049b",
   "metadata": {},
   "outputs": [],
   "source": [
    "np.save(\"new array.npy\", arr3)"
   ]
  },
  {
   "cell_type": "code",
   "execution_count": 16,
   "id": "457900f2-1cd4-4b83-8d5c-a78f00fc9621",
   "metadata": {},
   "outputs": [
    {
     "name": "stdout",
     "output_type": "stream",
     "text": [
      "[ 2 34  5 67 12  3 16]\n"
     ]
    }
   ],
   "source": [
    "print(np.load(\"new array.npy\"))"
   ]
  },
  {
   "cell_type": "code",
   "execution_count": 17,
   "id": "4a0938c0-9361-4b83-a183-c5456ef11f1a",
   "metadata": {},
   "outputs": [],
   "source": [
    "arr4 = np.array([[2,24], [68,45]])\n",
    "np.savetxt(\"arr.csv\", arr4)"
   ]
  },
  {
   "cell_type": "code",
   "execution_count": 18,
   "id": "5586b7a1-bb48-4967-aae6-c73d399ec92e",
   "metadata": {},
   "outputs": [
    {
     "name": "stdout",
     "output_type": "stream",
     "text": [
      "[[ 2. 24.]\n",
      " [68. 45.]]\n"
     ]
    }
   ],
   "source": [
    "print(np.loadtxt(\"arr.csv\"))"
   ]
  },
  {
   "cell_type": "code",
   "execution_count": 19,
   "id": "b4aafb60-83d6-4d7d-a9ec-7b319533f81f",
   "metadata": {},
   "outputs": [
    {
     "name": "stdout",
     "output_type": "stream",
     "text": [
      "[[ 2  5  9  8]\n",
      " [ 7  6 10  4]]\n"
     ]
    }
   ],
   "source": [
    "print(np.hstack((A,B)))"
   ]
  },
  {
   "cell_type": "code",
   "execution_count": 20,
   "id": "ae29ac02-c9ff-4f23-b475-58745087bfac",
   "metadata": {},
   "outputs": [],
   "source": [
    "import pandas as pd"
   ]
  },
  {
   "cell_type": "code",
   "execution_count": 21,
   "id": "261f2470-fc88-41d2-9831-869e01baae49",
   "metadata": {},
   "outputs": [],
   "source": [
    "df = pd.read_csv(r\"C:\\Users\\ASUS\\Downloads\\Jennifer A - AirPassengers.csv - Jennifer A - AirPassengers.csv.csv\")"
   ]
  },
  {
   "cell_type": "code",
   "execution_count": 22,
   "id": "04b5027b-6a6f-4edb-8842-1adf4f6e4875",
   "metadata": {},
   "outputs": [
    {
     "name": "stdout",
     "output_type": "stream",
     "text": [
      "     Month  #Passengers\n",
      "0  1949-01          112\n",
      "1  1949-02          118\n",
      "2  1949-03          132\n",
      "3  1949-04          129\n",
      "4  1949-05          121\n"
     ]
    }
   ],
   "source": [
    "print(df.head())"
   ]
  },
  {
   "cell_type": "code",
   "execution_count": 25,
   "id": "d9c9b148-f607-4137-b6be-eb0c96b3d2ae",
   "metadata": {},
   "outputs": [],
   "source": [
    "Passengers = df['#Passengers'].to_numpy()"
   ]
  },
  {
   "cell_type": "code",
   "execution_count": 26,
   "id": "de983f2b-cbf2-44f1-89e5-605b42e39491",
   "metadata": {},
   "outputs": [
    {
     "name": "stdout",
     "output_type": "stream",
     "text": [
      "40363\n"
     ]
    }
   ],
   "source": [
    "Total_passengers = np.sum(Passengers)\n",
    "print(Total_passengers)"
   ]
  },
  {
   "cell_type": "code",
   "execution_count": 28,
   "id": "3f2eab64-f125-48d8-bfb4-b4bb54f5ca67",
   "metadata": {},
   "outputs": [
    {
     "name": "stdout",
     "output_type": "stream",
     "text": [
      "280.2986111111111\n"
     ]
    }
   ],
   "source": [
    "Average = np.mean(Passengers)\n",
    "print(np.mean(Passengers))"
   ]
  },
  {
   "cell_type": "code",
   "execution_count": 38,
   "id": "68f05ce4-73a0-4c50-997b-4c9cb18d75c4",
   "metadata": {},
   "outputs": [
    {
     "name": "stdout",
     "output_type": "stream",
     "text": [
      "[10.58300524 10.86278049 11.48912529 11.35781669 11.         11.61895004\n",
      " 12.16552506 12.16552506 11.66190379 10.90871211 10.19803903 10.86278049]\n"
     ]
    }
   ],
   "source": [
    "First_year = np.sqrt(Passengers[0:12])\n",
    "print(First_year)"
   ]
  },
  {
   "cell_type": "code",
   "execution_count": 45,
   "id": "fea4148c-97e0-4574-93b1-709d903ffa07",
   "metadata": {},
   "outputs": [],
   "source": [
    "df['Year'] = pd.to_datetime(df['Month']).dt.year"
   ]
  },
  {
   "cell_type": "code",
   "execution_count": 46,
   "id": "80bcae2c-aeef-4e1c-99ac-2d8263ec04e8",
   "metadata": {},
   "outputs": [
    {
     "data": {
      "text/html": [
       "<div>\n",
       "<style scoped>\n",
       "    .dataframe tbody tr th:only-of-type {\n",
       "        vertical-align: middle;\n",
       "    }\n",
       "\n",
       "    .dataframe tbody tr th {\n",
       "        vertical-align: top;\n",
       "    }\n",
       "\n",
       "    .dataframe thead th {\n",
       "        text-align: right;\n",
       "    }\n",
       "</style>\n",
       "<table border=\"1\" class=\"dataframe\">\n",
       "  <thead>\n",
       "    <tr style=\"text-align: right;\">\n",
       "      <th></th>\n",
       "      <th>Month</th>\n",
       "      <th>#Passengers</th>\n",
       "      <th>Year</th>\n",
       "    </tr>\n",
       "  </thead>\n",
       "  <tbody>\n",
       "    <tr>\n",
       "      <th>0</th>\n",
       "      <td>1949-01</td>\n",
       "      <td>112</td>\n",
       "      <td>1949</td>\n",
       "    </tr>\n",
       "    <tr>\n",
       "      <th>1</th>\n",
       "      <td>1949-02</td>\n",
       "      <td>118</td>\n",
       "      <td>1949</td>\n",
       "    </tr>\n",
       "    <tr>\n",
       "      <th>2</th>\n",
       "      <td>1949-03</td>\n",
       "      <td>132</td>\n",
       "      <td>1949</td>\n",
       "    </tr>\n",
       "    <tr>\n",
       "      <th>3</th>\n",
       "      <td>1949-04</td>\n",
       "      <td>129</td>\n",
       "      <td>1949</td>\n",
       "    </tr>\n",
       "    <tr>\n",
       "      <th>4</th>\n",
       "      <td>1949-05</td>\n",
       "      <td>121</td>\n",
       "      <td>1949</td>\n",
       "    </tr>\n",
       "    <tr>\n",
       "      <th>...</th>\n",
       "      <td>...</td>\n",
       "      <td>...</td>\n",
       "      <td>...</td>\n",
       "    </tr>\n",
       "    <tr>\n",
       "      <th>139</th>\n",
       "      <td>1960-08</td>\n",
       "      <td>606</td>\n",
       "      <td>1960</td>\n",
       "    </tr>\n",
       "    <tr>\n",
       "      <th>140</th>\n",
       "      <td>1960-09</td>\n",
       "      <td>508</td>\n",
       "      <td>1960</td>\n",
       "    </tr>\n",
       "    <tr>\n",
       "      <th>141</th>\n",
       "      <td>1960-10</td>\n",
       "      <td>461</td>\n",
       "      <td>1960</td>\n",
       "    </tr>\n",
       "    <tr>\n",
       "      <th>142</th>\n",
       "      <td>1960-11</td>\n",
       "      <td>390</td>\n",
       "      <td>1960</td>\n",
       "    </tr>\n",
       "    <tr>\n",
       "      <th>143</th>\n",
       "      <td>1960-12</td>\n",
       "      <td>432</td>\n",
       "      <td>1960</td>\n",
       "    </tr>\n",
       "  </tbody>\n",
       "</table>\n",
       "<p>144 rows × 3 columns</p>\n",
       "</div>"
      ],
      "text/plain": [
       "       Month  #Passengers  Year\n",
       "0    1949-01          112  1949\n",
       "1    1949-02          118  1949\n",
       "2    1949-03          132  1949\n",
       "3    1949-04          129  1949\n",
       "4    1949-05          121  1949\n",
       "..       ...          ...   ...\n",
       "139  1960-08          606  1960\n",
       "140  1960-09          508  1960\n",
       "141  1960-10          461  1960\n",
       "142  1960-11          390  1960\n",
       "143  1960-12          432  1960\n",
       "\n",
       "[144 rows x 3 columns]"
      ]
     },
     "execution_count": 46,
     "metadata": {},
     "output_type": "execute_result"
    }
   ],
   "source": [
    "df"
   ]
  },
  {
   "cell_type": "code",
   "execution_count": 47,
   "id": "57af9fb3-6aaf-4903-b664-414eb42ac5d5",
   "metadata": {},
   "outputs": [],
   "source": [
    "Passengers_year = df.groupby('Year')['#Passengers'].sum()"
   ]
  },
  {
   "cell_type": "code",
   "execution_count": 48,
   "id": "cf5fe56d-abe7-445e-8605-a511c1da5181",
   "metadata": {},
   "outputs": [
    {
     "name": "stdout",
     "output_type": "stream",
     "text": [
      "Year\n",
      "1949    1520\n",
      "1950    1676\n",
      "1951    2042\n",
      "1952    2364\n",
      "1953    2700\n",
      "1954    2867\n",
      "1955    3408\n",
      "1956    3939\n",
      "1957    4421\n",
      "1958    4572\n",
      "1959    5140\n",
      "1960    5714\n",
      "Name: #Passengers, dtype: int64\n"
     ]
    }
   ],
   "source": [
    "print(Passengers_year)"
   ]
  },
  {
   "cell_type": "code",
   "execution_count": 61,
   "id": "38b64c0f-890e-44dc-beb7-ef4f47f883ea",
   "metadata": {},
   "outputs": [],
   "source": [
    "passengers_1950 = Passengers[12:24]"
   ]
  },
  {
   "cell_type": "code",
   "execution_count": 62,
   "id": "23bb74e3-8102-4329-bcfc-87bfadca351b",
   "metadata": {},
   "outputs": [
    {
     "name": "stdout",
     "output_type": "stream",
     "text": [
      "[115 126 141 135 125 149 170 170 158 133 114 140]\n"
     ]
    }
   ],
   "source": [
    "print(passengers_1950)"
   ]
  },
  {
   "cell_type": "code",
   "execution_count": 63,
   "id": "e9c635f4-3b11-4ed1-8933-6135a29d6484",
   "metadata": {},
   "outputs": [],
   "source": [
    "passengers_1951 = Passengers[24:36]"
   ]
  },
  {
   "cell_type": "code",
   "execution_count": 65,
   "id": "ef42affc-dbbb-43d8-9dd9-ae775695c9ec",
   "metadata": {},
   "outputs": [
    {
     "name": "stdout",
     "output_type": "stream",
     "text": [
      "[145 150 178 163 172 178 199 199 184 162 146 166]\n"
     ]
    }
   ],
   "source": [
    "print(passengers_1951)"
   ]
  },
  {
   "cell_type": "code",
   "execution_count": 66,
   "id": "ffec57cd-2436-4de8-94ce-ae81f5661d2c",
   "metadata": {},
   "outputs": [],
   "source": [
    "Total_1950 = sum(passengers_1950)"
   ]
  },
  {
   "cell_type": "code",
   "execution_count": 67,
   "id": "c46cf3b0-7c76-4a72-a712-549e8dd40ab4",
   "metadata": {},
   "outputs": [
    {
     "name": "stdout",
     "output_type": "stream",
     "text": [
      "1676\n"
     ]
    }
   ],
   "source": [
    "print(Total_1950)"
   ]
  },
  {
   "cell_type": "code",
   "execution_count": 68,
   "id": "105c3d5a-7d39-4526-8467-72beac0f76b5",
   "metadata": {},
   "outputs": [
    {
     "name": "stdout",
     "output_type": "stream",
     "text": [
      "2042\n"
     ]
    }
   ],
   "source": [
    "Total_1951 = sum(passengers_1951)\n",
    "print(Total_1951)"
   ]
  },
  {
   "cell_type": "code",
   "execution_count": 74,
   "id": "d1c13e68-3497-457d-be07-e330a78441d0",
   "metadata": {},
   "outputs": [
    {
     "name": "stdout",
     "output_type": "stream",
     "text": [
      "139.66666666666666\n"
     ]
    }
   ],
   "source": [
    "A = np.mean(passengers_1950)\n",
    "print(np.mean(passengers_1950))"
   ]
  },
  {
   "cell_type": "code",
   "execution_count": 75,
   "id": "b32fe3ea-9a9f-4ae1-a860-f262e570c43a",
   "metadata": {},
   "outputs": [
    {
     "name": "stdout",
     "output_type": "stream",
     "text": [
      "170.16666666666666\n"
     ]
    }
   ],
   "source": [
    "B = np.mean(passengers_1951)\n",
    "print(np.mean(passengers_1951))"
   ]
  },
  {
   "cell_type": "code",
   "execution_count": 78,
   "id": "a7c79dad-8764-472b-a3f5-c2c7ae5c2b15",
   "metadata": {},
   "outputs": [
    {
     "data": {
      "text/plain": [
       "30.5"
      ]
     },
     "execution_count": 78,
     "metadata": {},
     "output_type": "execute_result"
    }
   ],
   "source": [
    "np.subtract(B,A)"
   ]
  },
  {
   "cell_type": "code",
   "execution_count": 89,
   "id": "4c69ab51-45a9-4b9d-ad3a-3fbf5b875b19",
   "metadata": {},
   "outputs": [
    {
     "name": "stdout",
     "output_type": "stream",
     "text": [
      "modify_1951 [435. 450. 534. 489. 516. 534. 597. 597. 552. 486. 438. 498.]\n"
     ]
    }
   ],
   "source": [
    "print('modify_1951', np.copy(passengers_1951)*3.0)"
   ]
  },
  {
   "cell_type": "code",
   "execution_count": 90,
   "id": "f1bbe9d8-c9c4-4190-998a-26bc3af97f7b",
   "metadata": {},
   "outputs": [
    {
     "name": "stdout",
     "output_type": "stream",
     "text": [
      "[145 150 178 163 172 178 199 199 184 162 146 166]\n"
     ]
    }
   ],
   "source": [
    " print(passengers_1951)"
   ]
  },
  {
   "cell_type": "code",
   "execution_count": 95,
   "id": "6c4741a0-f068-4dc8-83b7-e786002bab3f",
   "metadata": {},
   "outputs": [],
   "source": [
    "np.random.seed(42)\n",
    "forecast_1961 = np.random.uniform(100,600,12).astype(int)\n",
    "actual_1960 = Passengers[-12:]"
   ]
  },
  {
   "cell_type": "code",
   "execution_count": 96,
   "id": "3c15e007-9d07-4db2-b770-392add9bc622",
   "metadata": {},
   "outputs": [
    {
     "name": "stdout",
     "output_type": "stream",
     "text": [
      "584\n"
     ]
    }
   ],
   "source": [
    "print(np.max(forecast_1961))"
   ]
  },
  {
   "cell_type": "code",
   "execution_count": 97,
   "id": "25f7da22-ada4-4956-a999-0b9176d4531e",
   "metadata": {},
   "outputs": [
    {
     "name": "stdout",
     "output_type": "stream",
     "text": [
      "110\n"
     ]
    }
   ],
   "source": [
    "print(np.min(forecast_1961))"
   ]
  },
  {
   "cell_type": "code",
   "execution_count": 98,
   "id": "b1a47580-4c32-4a2b-881d-a03cb15d6e21",
   "metadata": {},
   "outputs": [
    {
     "name": "stdout",
     "output_type": "stream",
     "text": [
      "622\n"
     ]
    }
   ],
   "source": [
    "print(np.max(actual_1960))"
   ]
  },
  {
   "cell_type": "code",
   "execution_count": 100,
   "id": "ba189528-2bcc-453b-8d2c-5910d55c19b3",
   "metadata": {},
   "outputs": [
    {
     "name": "stdout",
     "output_type": "stream",
     "text": [
      "390\n"
     ]
    }
   ],
   "source": [
    "print(np.min(actual_1960))"
   ]
  },
  {
   "cell_type": "code",
   "execution_count": 105,
   "id": "c748cbd5-d2b0-4319-9757-a2c2a356a450",
   "metadata": {},
   "outputs": [
    {
     "name": "stdout",
     "output_type": "stream",
     "text": [
      "max (1960) 622\n"
     ]
    }
   ],
   "source": [
    "maximum = actual_1960[0]\n",
    "for i in actual_1960:\n",
    "    if i>maximum:\n",
    "        maximum = i\n",
    "print(\"max (1960)\", maximum)"
   ]
  },
  {
   "cell_type": "code",
   "execution_count": 110,
   "id": "ebedbf50-d94f-41cd-966a-a998b31f6d16",
   "metadata": {},
   "outputs": [],
   "source": [
    "np.savetxt('forecast_1961.dat', forecast_1961)"
   ]
  },
  {
   "cell_type": "code",
   "execution_count": 116,
   "id": "26988419-a612-4da7-ab17-73b818c884b7",
   "metadata": {},
   "outputs": [
    {
     "data": {
      "text/plain": [
       "array([575., 465., 399., 178., 177., 129., 533., 400., 454., 110., 584.])"
      ]
     },
     "execution_count": 116,
     "metadata": {},
     "output_type": "execute_result"
    }
   ],
   "source": [
    "np.loadtxt('forecast_1961.dat', skiprows=1)"
   ]
  },
  {
   "cell_type": "code",
   "execution_count": null,
   "id": "70c234ca-b0d5-4a95-9fa1-a1832840a28c",
   "metadata": {},
   "outputs": [],
   "source": []
  }
 ],
 "metadata": {
  "kernelspec": {
   "display_name": "Python [conda env:base] *",
   "language": "python",
   "name": "conda-base-py"
  },
  "language_info": {
   "codemirror_mode": {
    "name": "ipython",
    "version": 3
   },
   "file_extension": ".py",
   "mimetype": "text/x-python",
   "name": "python",
   "nbconvert_exporter": "python",
   "pygments_lexer": "ipython3",
   "version": "3.12.7"
  }
 },
 "nbformat": 4,
 "nbformat_minor": 5
}
