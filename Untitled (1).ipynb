{
 "cells": [
  {
   "cell_type": "code",
   "execution_count": 1,
   "id": "88a5ea32-3cca-40fa-afbb-b7158917f0da",
   "metadata": {},
   "outputs": [
    {
     "name": "stdout",
     "output_type": "stream",
     "text": [
      "[0 1 2 3 4 5 6 7 8 9]\n"
     ]
    }
   ],
   "source": [
    "import numpy as np\n",
    "arr = np.arange(0, 10)\n",
    "print (arr)"
   ]
  },
  {
   "cell_type": "code",
   "execution_count": 2,
   "id": "3ea5c79a-81cc-4f16-b622-33ee2412a408",
   "metadata": {},
   "outputs": [
    {
     "name": "stdout",
     "output_type": "stream",
     "text": [
      "[[0 1 2 3 4]\n",
      " [5 6 7 8 9]]\n"
     ]
    }
   ],
   "source": [
    "arr1 = arr.reshape(2,5)\n",
    "print(arr1)"
   ]
  },
  {
   "cell_type": "code",
   "execution_count": 5,
   "id": "4bc530e3-d997-4658-8235-8e1a477f1120",
   "metadata": {},
   "outputs": [
    {
     "name": "stdout",
     "output_type": "stream",
     "text": [
      "[[11 13]\n",
      " [17 10]]\n"
     ]
    }
   ],
   "source": [
    "A = np.array([[2,5], [7,6]])\n",
    "B = np.array([[9,8], [10,4]])\n",
    "print(A+B)"
   ]
  },
  {
   "cell_type": "code",
   "execution_count": 8,
   "id": "89ee5aff-d94f-47bf-8860-090c7c361df5",
   "metadata": {},
   "outputs": [
    {
     "name": "stdout",
     "output_type": "stream",
     "text": [
      "[[18 40]\n",
      " [70 24]]\n"
     ]
    }
   ],
   "source": [
    "print(A*B)"
   ]
  },
  {
   "cell_type": "code",
   "execution_count": 15,
   "id": "1ef97810-a431-4b34-a066-bd195b3e233b",
   "metadata": {},
   "outputs": [
    {
     "name": "stdout",
     "output_type": "stream",
     "text": [
      "[[ 68  36]\n",
      " [123  80]]\n"
     ]
    }
   ],
   "source": [
    "C = np.dot(A,B)\n",
    "print(np.dot(A,B))"
   ]
  },
  {
   "cell_type": "code",
   "execution_count": 10,
   "id": "6d00db43-fd84-46a9-ba43-13983f41d446",
   "metadata": {},
   "outputs": [
    {
     "name": "stdout",
     "output_type": "stream",
     "text": [
      "[[2 7]\n",
      " [5 6]]\n"
     ]
    }
   ],
   "source": [
    "print(np.transpose(A))"
   ]
  },
  {
   "cell_type": "code",
   "execution_count": 16,
   "id": "377fba65-18d6-458a-a6c7-3c3992958f53",
   "metadata": {},
   "outputs": [
    {
     "name": "stdout",
     "output_type": "stream",
     "text": [
      "[[ 88  44]\n",
      " [105  64]]\n"
     ]
    }
   ],
   "source": [
    "D = np.dot(A,B)\n",
    "print(np.dot((np.transpose(A)),B))"
   ]
  },
  {
   "cell_type": "code",
   "execution_count": 26,
   "id": "edd94d2b-de01-4557-af71-bb584927d323",
   "metadata": {},
   "outputs": [
    {
     "name": "stdout",
     "output_type": "stream",
     "text": [
      "[0 1 2 3 4 5 6]\n"
     ]
    }
   ],
   "source": [
    "Elements = arr[arr<7]\n",
    "print(Elements)"
   ]
  },
  {
   "cell_type": "code",
   "execution_count": 33,
   "id": "49e8e7ed-a9a3-452e-8006-d6b2c0e9df18",
   "metadata": {},
   "outputs": [
    {
     "name": "stdout",
     "output_type": "stream",
     "text": [
      "[2 0 8 0 1 5 0]\n"
     ]
    }
   ],
   "source": [
    "arr2 = np.array([2, -4, 8, -6, 1, 5, -100])\n",
    "arr2[arr2<0] = 0\n",
    "print(arr2)"
   ]
  },
  {
   "cell_type": "code",
   "execution_count": 34,
   "id": "b87c03cc-9c28-4c6c-9d1e-d6903be7eca7",
   "metadata": {},
   "outputs": [
    {
     "name": "stdout",
     "output_type": "stream",
     "text": [
      "[0 5 1 0 8 0 2]\n"
     ]
    }
   ],
   "source": [
    "print(np.flip(arr2))"
   ]
  },
  {
   "cell_type": "code",
   "execution_count": 35,
   "id": "44f6a314-6d40-40dd-852e-376ccb3f7c20",
   "metadata": {},
   "outputs": [
    {
     "name": "stdout",
     "output_type": "stream",
     "text": [
      "19.857142857142858\n"
     ]
    }
   ],
   "source": [
    "arr3 = np.array([2, 34, 5, 67, 12, 3, 16])\n",
    "print(np.mean(arr3))"
   ]
  },
  {
   "cell_type": "code",
   "execution_count": 37,
   "id": "c8e7d642-5f90-48b4-94ec-6fa78f6d365b",
   "metadata": {},
   "outputs": [
    {
     "name": "stdout",
     "output_type": "stream",
     "text": [
      "12.0\n"
     ]
    }
   ],
   "source": [
    "print(np.median(arr3))"
   ]
  },
  {
   "cell_type": "code",
   "execution_count": 38,
   "id": "2922322f-fc04-4335-9dd0-618802284053",
   "metadata": {},
   "outputs": [
    {
     "name": "stdout",
     "output_type": "stream",
     "text": [
      "21.78747065519585\n"
     ]
    }
   ],
   "source": [
    "print(np.std(arr3))"
   ]
  },
  {
   "cell_type": "code",
   "execution_count": 42,
   "id": "9ad1c921-7733-4700-868c-9c52ac27049b",
   "metadata": {},
   "outputs": [],
   "source": [
    "np.save(\"new array.npy\", arr3)"
   ]
  },
  {
   "cell_type": "code",
   "execution_count": 44,
   "id": "457900f2-1cd4-4b83-8d5c-a78f00fc9621",
   "metadata": {},
   "outputs": [
    {
     "name": "stdout",
     "output_type": "stream",
     "text": [
      "[ 2 34  5 67 12  3 16]\n"
     ]
    }
   ],
   "source": [
    "print(np.load(\"new array.npy\"))"
   ]
  },
  {
   "cell_type": "code",
   "execution_count": 47,
   "id": "4a0938c0-9361-4b83-a183-c5456ef11f1a",
   "metadata": {},
   "outputs": [],
   "source": [
    "arr4 = np.array([[2,24], [68,45]])\n",
    "np.savetxt(\"arr.csv\", arr4)"
   ]
  },
  {
   "cell_type": "code",
   "execution_count": 49,
   "id": "5586b7a1-bb48-4967-aae6-c73d399ec92e",
   "metadata": {},
   "outputs": [
    {
     "name": "stdout",
     "output_type": "stream",
     "text": [
      "[[ 2. 24.]\n",
      " [68. 45.]]\n"
     ]
    }
   ],
   "source": [
    "print(np.loadtxt(\"arr.csv\"))"
   ]
  },
  {
   "cell_type": "code",
   "execution_count": 51,
   "id": "b4aafb60-83d6-4d7d-a9ec-7b319533f81f",
   "metadata": {},
   "outputs": [
    {
     "name": "stdout",
     "output_type": "stream",
     "text": [
      "[[ 2  5  9  8]\n",
      " [ 7  6 10  4]]\n"
     ]
    }
   ],
   "source": [
    "print(np.hstack((A,B)))"
   ]
  }
 ],
 "metadata": {
  "kernelspec": {
   "display_name": "Python [conda env:base] *",
   "language": "python",
   "name": "conda-base-py"
  },
  "language_info": {
   "codemirror_mode": {
    "name": "ipython",
    "version": 3
   },
   "file_extension": ".py",
   "mimetype": "text/x-python",
   "name": "python",
   "nbconvert_exporter": "python",
   "pygments_lexer": "ipython3",
   "version": "3.12.7"
  }
 },
 "nbformat": 4,
 "nbformat_minor": 5
}
